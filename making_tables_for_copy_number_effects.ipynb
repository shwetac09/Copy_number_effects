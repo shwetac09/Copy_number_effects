{
  "cells": [
    {
      "cell_type": "markdown",
      "metadata": {
        "id": "view-in-github",
        "colab_type": "text"
      },
      "source": [
        "<a href=\"https://colab.research.google.com/github/shwetac09/Copy_number_effects/blob/main/making_tables_for_copy_number_effects.ipynb\" target=\"_parent\"><img src=\"https://colab.research.google.com/assets/colab-badge.svg\" alt=\"Open In Colab\"/></a>"
      ]
    },
    {
      "cell_type": "markdown",
      "source": [
        "# cleaning files"
      ],
      "metadata": {
        "id": "QIeSyob-QSAc"
      },
      "id": "QIeSyob-QSAc"
    },
    {
      "cell_type": "code",
      "source": [
        "library(magrittr)\n",
        "library(ggplot2)"
      ],
      "metadata": {
        "id": "vxNfGNJ4SjVQ"
      },
      "id": "vxNfGNJ4SjVQ",
      "execution_count": 2,
      "outputs": []
    },
    {
      "cell_type": "code",
      "source": [
        "#@title ggplot custom themes\n",
        "#custom theme at the beginning of time\n",
        "custom_theme <- theme_bw(base_size = 11) +\n",
        "  theme(axis.line = element_line(color = \"black\"),\n",
        "        panel.grid.major = element_blank(),\n",
        "        panel.grid.minor = element_blank(),\n",
        "        panel.border = element_blank(),\n",
        "        axis.text.x = element_text(angle = 0, hjust = 0.5, size = 11),\n",
        "        axis.title = element_text(size = 13),\n",
        "        axis.text = element_text(size = 11))\n",
        "\n",
        "custom_theme_ggsave <- custom_theme +\n",
        "  theme(axis.text.x = element_text(angle = 90, size = 14, hjust = 0.5, vjust = 0.5),\n",
        "        axis.text.y = element_text(size = 14),\n",
        "        axis.title = element_text(size = 18),\n",
        "        axis.ticks.length = unit(.3, \"cm\"),\n",
        "        axis.line = element_line(size = 0.75))\n"
      ],
      "metadata": {
        "cellView": "form",
        "id": "XSy6pAlQQvew"
      },
      "id": "XSy6pAlQQvew",
      "execution_count": 23,
      "outputs": []
    },
    {
      "cell_type": "code",
      "execution_count": 15,
      "id": "3db130b9-e37a-49a1-a65a-a29327013bab",
      "metadata": {
        "id": "3db130b9-e37a-49a1-a65a-a29327013bab",
        "colab": {
          "base_uri": "https://localhost:8080/",
          "height": 306
        },
        "outputId": "061759eb-0c67-4292-b189-3632fcaa6426"
      },
      "outputs": [
        {
          "output_type": "display_data",
          "data": {
            "text/html": [
              "<table class=\"dataframe\">\n",
              "<caption>A data.frame: 6 × 28</caption>\n",
              "<thead>\n",
              "\t<tr><th></th><th scope=col>gene</th><th scope=col>wt_b_1.59_dna</th><th scope=col>wt_b_1.59.1_dna</th><th scope=col>wt_b_1.37_dna</th><th scope=col>wt_b_1.37.1_dna</th><th scope=col>wt_b_1.23_dna</th><th scope=col>wt_b_1.35_dna</th><th scope=col>wt_b_0.85_dna</th><th scope=col>wt_b_0.8_dna</th><th scope=col>wt_b_1.59_rna</th><th scope=col>⋯</th><th scope=col>wt_b_1.59.1_ratio</th><th scope=col>wt_b_1.37_ratio</th><th scope=col>wt_b_1.37.1_ratio</th><th scope=col>wt_b_1.23_ratio</th><th scope=col>wt_b_1.35_ratio</th><th scope=col>wt_b_0.85_ratio</th><th scope=col>wt_b_0.8_ratio</th><th scope=col>position</th><th scope=col>spr_corr</th><th scope=col>p_val</th></tr>\n",
              "\t<tr><th></th><th scope=col>&lt;chr&gt;</th><th scope=col>&lt;dbl&gt;</th><th scope=col>&lt;dbl&gt;</th><th scope=col>&lt;dbl&gt;</th><th scope=col>&lt;dbl&gt;</th><th scope=col>&lt;dbl&gt;</th><th scope=col>&lt;dbl&gt;</th><th scope=col>&lt;dbl&gt;</th><th scope=col>&lt;dbl&gt;</th><th scope=col>&lt;dbl&gt;</th><th scope=col>⋯</th><th scope=col>&lt;dbl&gt;</th><th scope=col>&lt;dbl&gt;</th><th scope=col>&lt;dbl&gt;</th><th scope=col>&lt;dbl&gt;</th><th scope=col>&lt;dbl&gt;</th><th scope=col>&lt;dbl&gt;</th><th scope=col>&lt;dbl&gt;</th><th scope=col>&lt;dbl&gt;</th><th scope=col>&lt;dbl&gt;</th><th scope=col>&lt;dbl&gt;</th></tr>\n",
              "</thead>\n",
              "<tbody>\n",
              "\t<tr><th scope=row>1</th><td>aaeA</td><td>1554.5252</td><td>1567.2424</td><td>1616.9853</td><td>1692.3405</td><td>1615.6538</td><td>1589.1690</td><td>1565.7648</td><td>1599.0963</td><td>  84.91219</td><td>⋯</td><td>62.947888</td><td>39.781907</td><td>29.718089</td><td>52.40694</td><td>35.258658</td><td>20.382818</td><td>29.731194</td><td>3386215</td><td>-0.35714286</td><td>0.38938492</td></tr>\n",
              "\t<tr><th scope=row>2</th><td>aaeB</td><td>3144.9092</td><td>3112.1512</td><td>3268.6274</td><td>3509.7114</td><td>3203.5401</td><td>3093.1305</td><td>3173.7917</td><td>3190.9895</td><td> 113.21626</td><td>⋯</td><td>80.356338</td><td>46.121204</td><td>39.144494</td><td>59.37896</td><td>63.001682</td><td>37.872815</td><td>58.386741</td><td>3384242</td><td> 0.45238095</td><td>0.26746032</td></tr>\n",
              "\t<tr><th scope=row>3</th><td>aaeR</td><td>1466.3321</td><td>1546.8508</td><td>1594.2109</td><td>1685.4491</td><td>1540.5788</td><td>1520.3871</td><td>1538.9643</td><td>1553.8194</td><td> 409.57646</td><td>⋯</td><td>12.155647</td><td> 7.181419</td><td>11.309451</td><td>15.02909</td><td>15.357934</td><td> 7.524942</td><td>11.194636</td><td>3387541</td><td> 0.04761905</td><td>0.93487103</td></tr>\n",
              "\t<tr><th scope=row>4</th><td>aaeX</td><td> 410.9219</td><td> 429.1953</td><td> 453.5084</td><td> 431.2072</td><td> 396.9716</td><td> 432.1965</td><td> 432.9303</td><td> 370.4470</td><td>  66.59780</td><td>⋯</td><td>23.271998</td><td>18.130854</td><td>16.176863</td><td>15.14890</td><td>12.785439</td><td> 6.289229</td><td>10.675680</td><td>3387155</td><td>-0.07142857</td><td>0.88199405</td></tr>\n",
              "\t<tr><th scope=row>5</th><td>aas </td><td>2863.8541</td><td>2873.2778</td><td>3083.4613</td><td>3207.4726</td><td>3214.8527</td><td>3253.2793</td><td>3195.4383</td><td>3235.2373</td><td>1405.21355</td><td>⋯</td><td> 5.846005</td><td> 9.605764</td><td> 5.780008</td><td>10.24866</td><td> 9.931405</td><td> 6.757414</td><td> 8.324488</td><td>2971876</td><td>-0.54761905</td><td>0.17098214</td></tr>\n",
              "\t<tr><th scope=row>6</th><td>aat </td><td> 591.1848</td><td> 598.1545</td><td> 655.5078</td><td> 722.6166</td><td> 804.2274</td><td> 776.1058</td><td> 821.5369</td><td> 868.4925</td><td> 153.17494</td><td>⋯</td><td>10.462378</td><td>14.626943</td><td>11.252864</td><td>41.73874</td><td>37.087819</td><td>22.256342</td><td>47.673405</td><td> 925950</td><td>-0.85714286</td><td>0.01071429</td></tr>\n",
              "</tbody>\n",
              "</table>\n"
            ],
            "text/markdown": "\nA data.frame: 6 × 28\n\n| <!--/--> | gene &lt;chr&gt; | wt_b_1.59_dna &lt;dbl&gt; | wt_b_1.59.1_dna &lt;dbl&gt; | wt_b_1.37_dna &lt;dbl&gt; | wt_b_1.37.1_dna &lt;dbl&gt; | wt_b_1.23_dna &lt;dbl&gt; | wt_b_1.35_dna &lt;dbl&gt; | wt_b_0.85_dna &lt;dbl&gt; | wt_b_0.8_dna &lt;dbl&gt; | wt_b_1.59_rna &lt;dbl&gt; | ⋯ ⋯ | wt_b_1.59.1_ratio &lt;dbl&gt; | wt_b_1.37_ratio &lt;dbl&gt; | wt_b_1.37.1_ratio &lt;dbl&gt; | wt_b_1.23_ratio &lt;dbl&gt; | wt_b_1.35_ratio &lt;dbl&gt; | wt_b_0.85_ratio &lt;dbl&gt; | wt_b_0.8_ratio &lt;dbl&gt; | position &lt;dbl&gt; | spr_corr &lt;dbl&gt; | p_val &lt;dbl&gt; |\n|---|---|---|---|---|---|---|---|---|---|---|---|---|---|---|---|---|---|---|---|---|---|\n| 1 | aaeA | 1554.5252 | 1567.2424 | 1616.9853 | 1692.3405 | 1615.6538 | 1589.1690 | 1565.7648 | 1599.0963 |   84.91219 | ⋯ | 62.947888 | 39.781907 | 29.718089 | 52.40694 | 35.258658 | 20.382818 | 29.731194 | 3386215 | -0.35714286 | 0.38938492 |\n| 2 | aaeB | 3144.9092 | 3112.1512 | 3268.6274 | 3509.7114 | 3203.5401 | 3093.1305 | 3173.7917 | 3190.9895 |  113.21626 | ⋯ | 80.356338 | 46.121204 | 39.144494 | 59.37896 | 63.001682 | 37.872815 | 58.386741 | 3384242 |  0.45238095 | 0.26746032 |\n| 3 | aaeR | 1466.3321 | 1546.8508 | 1594.2109 | 1685.4491 | 1540.5788 | 1520.3871 | 1538.9643 | 1553.8194 |  409.57646 | ⋯ | 12.155647 |  7.181419 | 11.309451 | 15.02909 | 15.357934 |  7.524942 | 11.194636 | 3387541 |  0.04761905 | 0.93487103 |\n| 4 | aaeX |  410.9219 |  429.1953 |  453.5084 |  431.2072 |  396.9716 |  432.1965 |  432.9303 |  370.4470 |   66.59780 | ⋯ | 23.271998 | 18.130854 | 16.176863 | 15.14890 | 12.785439 |  6.289229 | 10.675680 | 3387155 | -0.07142857 | 0.88199405 |\n| 5 | aas  | 2863.8541 | 2873.2778 | 3083.4613 | 3207.4726 | 3214.8527 | 3253.2793 | 3195.4383 | 3235.2373 | 1405.21355 | ⋯ |  5.846005 |  9.605764 |  5.780008 | 10.24866 |  9.931405 |  6.757414 |  8.324488 | 2971876 | -0.54761905 | 0.17098214 |\n| 6 | aat  |  591.1848 |  598.1545 |  655.5078 |  722.6166 |  804.2274 |  776.1058 |  821.5369 |  868.4925 |  153.17494 | ⋯ | 10.462378 | 14.626943 | 11.252864 | 41.73874 | 37.087819 | 22.256342 | 47.673405 |  925950 | -0.85714286 | 0.01071429 |\n\n",
            "text/latex": "A data.frame: 6 × 28\n\\begin{tabular}{r|lllllllllllllllllllll}\n  & gene & wt\\_b\\_1.59\\_dna & wt\\_b\\_1.59.1\\_dna & wt\\_b\\_1.37\\_dna & wt\\_b\\_1.37.1\\_dna & wt\\_b\\_1.23\\_dna & wt\\_b\\_1.35\\_dna & wt\\_b\\_0.85\\_dna & wt\\_b\\_0.8\\_dna & wt\\_b\\_1.59\\_rna & ⋯ & wt\\_b\\_1.59.1\\_ratio & wt\\_b\\_1.37\\_ratio & wt\\_b\\_1.37.1\\_ratio & wt\\_b\\_1.23\\_ratio & wt\\_b\\_1.35\\_ratio & wt\\_b\\_0.85\\_ratio & wt\\_b\\_0.8\\_ratio & position & spr\\_corr & p\\_val\\\\\n  & <chr> & <dbl> & <dbl> & <dbl> & <dbl> & <dbl> & <dbl> & <dbl> & <dbl> & <dbl> & ⋯ & <dbl> & <dbl> & <dbl> & <dbl> & <dbl> & <dbl> & <dbl> & <dbl> & <dbl> & <dbl>\\\\\n\\hline\n\t1 & aaeA & 1554.5252 & 1567.2424 & 1616.9853 & 1692.3405 & 1615.6538 & 1589.1690 & 1565.7648 & 1599.0963 &   84.91219 & ⋯ & 62.947888 & 39.781907 & 29.718089 & 52.40694 & 35.258658 & 20.382818 & 29.731194 & 3386215 & -0.35714286 & 0.38938492\\\\\n\t2 & aaeB & 3144.9092 & 3112.1512 & 3268.6274 & 3509.7114 & 3203.5401 & 3093.1305 & 3173.7917 & 3190.9895 &  113.21626 & ⋯ & 80.356338 & 46.121204 & 39.144494 & 59.37896 & 63.001682 & 37.872815 & 58.386741 & 3384242 &  0.45238095 & 0.26746032\\\\\n\t3 & aaeR & 1466.3321 & 1546.8508 & 1594.2109 & 1685.4491 & 1540.5788 & 1520.3871 & 1538.9643 & 1553.8194 &  409.57646 & ⋯ & 12.155647 &  7.181419 & 11.309451 & 15.02909 & 15.357934 &  7.524942 & 11.194636 & 3387541 &  0.04761905 & 0.93487103\\\\\n\t4 & aaeX &  410.9219 &  429.1953 &  453.5084 &  431.2072 &  396.9716 &  432.1965 &  432.9303 &  370.4470 &   66.59780 & ⋯ & 23.271998 & 18.130854 & 16.176863 & 15.14890 & 12.785439 &  6.289229 & 10.675680 & 3387155 & -0.07142857 & 0.88199405\\\\\n\t5 & aas  & 2863.8541 & 2873.2778 & 3083.4613 & 3207.4726 & 3214.8527 & 3253.2793 & 3195.4383 & 3235.2373 & 1405.21355 & ⋯ &  5.846005 &  9.605764 &  5.780008 & 10.24866 &  9.931405 &  6.757414 &  8.324488 & 2971876 & -0.54761905 & 0.17098214\\\\\n\t6 & aat  &  591.1848 &  598.1545 &  655.5078 &  722.6166 &  804.2274 &  776.1058 &  821.5369 &  868.4925 &  153.17494 & ⋯ & 10.462378 & 14.626943 & 11.252864 & 41.73874 & 37.087819 & 22.256342 & 47.673405 &  925950 & -0.85714286 & 0.01071429\\\\\n\\end{tabular}\n",
            "text/plain": [
              "  gene wt_b_1.59_dna wt_b_1.59.1_dna wt_b_1.37_dna wt_b_1.37.1_dna\n",
              "1 aaeA 1554.5252     1567.2424       1616.9853     1692.3405      \n",
              "2 aaeB 3144.9092     3112.1512       3268.6274     3509.7114      \n",
              "3 aaeR 1466.3321     1546.8508       1594.2109     1685.4491      \n",
              "4 aaeX  410.9219      429.1953        453.5084      431.2072      \n",
              "5 aas  2863.8541     2873.2778       3083.4613     3207.4726      \n",
              "6 aat   591.1848      598.1545        655.5078      722.6166      \n",
              "  wt_b_1.23_dna wt_b_1.35_dna wt_b_0.85_dna wt_b_0.8_dna wt_b_1.59_rna ⋯\n",
              "1 1615.6538     1589.1690     1565.7648     1599.0963      84.91219    ⋯\n",
              "2 3203.5401     3093.1305     3173.7917     3190.9895     113.21626    ⋯\n",
              "3 1540.5788     1520.3871     1538.9643     1553.8194     409.57646    ⋯\n",
              "4  396.9716      432.1965      432.9303      370.4470      66.59780    ⋯\n",
              "5 3214.8527     3253.2793     3195.4383     3235.2373    1405.21355    ⋯\n",
              "6  804.2274      776.1058      821.5369      868.4925     153.17494    ⋯\n",
              "  wt_b_1.59.1_ratio wt_b_1.37_ratio wt_b_1.37.1_ratio wt_b_1.23_ratio\n",
              "1 62.947888         39.781907       29.718089         52.40694       \n",
              "2 80.356338         46.121204       39.144494         59.37896       \n",
              "3 12.155647          7.181419       11.309451         15.02909       \n",
              "4 23.271998         18.130854       16.176863         15.14890       \n",
              "5  5.846005          9.605764        5.780008         10.24866       \n",
              "6 10.462378         14.626943       11.252864         41.73874       \n",
              "  wt_b_1.35_ratio wt_b_0.85_ratio wt_b_0.8_ratio position spr_corr   \n",
              "1 35.258658       20.382818       29.731194      3386215  -0.35714286\n",
              "2 63.001682       37.872815       58.386741      3384242   0.45238095\n",
              "3 15.357934        7.524942       11.194636      3387541   0.04761905\n",
              "4 12.785439        6.289229       10.675680      3387155  -0.07142857\n",
              "5  9.931405        6.757414        8.324488      2971876  -0.54761905\n",
              "6 37.087819       22.256342       47.673405       925950  -0.85714286\n",
              "  p_val     \n",
              "1 0.38938492\n",
              "2 0.26746032\n",
              "3 0.93487103\n",
              "4 0.88199405\n",
              "5 0.17098214\n",
              "6 0.01071429"
            ]
          },
          "metadata": {}
        }
      ],
      "source": [
        "dt <- read.table(\"b_dna_rna_drratio_position_sprcorr.txt\")\n",
        "head(dt)"
      ]
    },
    {
      "cell_type": "code",
      "source": [
        "#changing the column names so its easier to read\n",
        "gr <- c(159, 137, 123, 85)\n",
        "gr_num <- rep(gr, 2) %>% .[order(., decreasing = T)] %>% paste(., c(1,2), sep = \"_\")\n",
        "dna_colnames <- paste(\"dna_\", gr_num, sep = \"\")\n",
        "rna_colnames <- paste(\"rna_\", gr_num, sep = \"\")\n",
        "colnames(dt)"
      ],
      "metadata": {
        "colab": {
          "base_uri": "https://localhost:8080/",
          "height": 34
        },
        "id": "NFywaMqAHpX9",
        "outputId": "a76111c1-89e8-4ad1-c016-3a718d9a7d79"
      },
      "id": "NFywaMqAHpX9",
      "execution_count": 13,
      "outputs": [
        {
          "output_type": "display_data",
          "data": {
            "text/plain": [
              "NULL"
            ]
          },
          "metadata": {}
        }
      ]
    }
  ],
  "metadata": {
    "kernelspec": {
      "display_name": "R",
      "language": "R",
      "name": "ir"
    },
    "language_info": {
      "codemirror_mode": "r",
      "file_extension": ".r",
      "mimetype": "text/x-r-source",
      "name": "R",
      "pygments_lexer": "r",
      "version": "3.6.1"
    },
    "colab": {
      "provenance": [],
      "include_colab_link": true
    }
  },
  "nbformat": 4,
  "nbformat_minor": 5
}