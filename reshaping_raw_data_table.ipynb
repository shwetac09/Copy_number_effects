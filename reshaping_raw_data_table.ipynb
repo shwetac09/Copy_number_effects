{
  "cells": [
    {
      "cell_type": "markdown",
      "metadata": {
        "id": "view-in-github",
        "colab_type": "text"
      },
      "source": [
        "<a href=\"https://colab.research.google.com/github/shwetac09/Copy_number_effects/blob/main/reshaping_raw_data_table.ipynb\" target=\"_parent\"><img src=\"https://colab.research.google.com/assets/colab-badge.svg\" alt=\"Open In Colab\"/></a>"
      ]
    },
    {
      "cell_type": "markdown",
      "source": [
        "### Summary\n",
        "This data file is difficult to navigate. This code just reshapes the data <br>\n",
        "1. Here I am converting the dna and rna copy numbers into a long form table for further analysis and finding correlations, slopes etc. <br>\n",
        "2. changing column names so we can edit growth rates out of them easily.\n",
        "\n",
        "###### imp -\n",
        "magrittr pipes <br>\n",
        "melt for reshaping data <br>\n",
        "saving tables"
      ],
      "metadata": {
        "id": "nZrcOwO2cIkb"
      },
      "id": "nZrcOwO2cIkb"
    },
    {
      "cell_type": "code",
      "source": [
        "library(magrittr)\n",
        "library(ggplot2)"
      ],
      "metadata": {
        "id": "vxNfGNJ4SjVQ"
      },
      "id": "vxNfGNJ4SjVQ",
      "execution_count": 2,
      "outputs": []
    },
    {
      "cell_type": "markdown",
      "source": [
        "#####reshaping and changing raw file"
      ],
      "metadata": {
        "id": "QIeSyob-QSAc"
      },
      "id": "QIeSyob-QSAc"
    },
    {
      "cell_type": "code",
      "execution_count": null,
      "id": "3db130b9-e37a-49a1-a65a-a29327013bab",
      "metadata": {
        "id": "3db130b9-e37a-49a1-a65a-a29327013bab"
      },
      "outputs": [],
      "source": [
        "# this is only if you started from this file - which i strongly suggest against. move to the next section.\n",
        "dt <- read.table(\"b_dna_rna_drratio_position_sprcorr.txt\")\n",
        "head(dt)"
      ]
    },
    {
      "cell_type": "code",
      "source": [
        "#changing the column names so its easier to read\n",
        "gr <- c(159, 137, 123, 85)\n",
        "gr_num <- rep(gr, 2) %>% .[order(., decreasing = T)] %>% paste(., c(1,2), sep = \"_\")\n",
        "dna_colnames <- paste(\"dna_\", gr_num, sep = \"\")\n",
        "rna_colnames <- paste(\"rna_\", gr_num, sep = \"\")\n",
        "colnames(dt)\n",
        "\n",
        "#reshaping file to long form for better use\n",
        "\n",
        "## dna ----\n",
        "dna_cn <- dt[ ,1:9]\n",
        "#head(dna_cn)\n",
        "colnames(dna_cn)[-1] <- colnames(dna_cn)[-1] %>% substr(., 5, nchar(.))\n",
        "dna_cn_melt <- melt(dna_cn)\n",
        "dna_cn_melt$type <- rep(\"dna\", nrow(dna_cn_melt))\n",
        "#head(dna_cn_melt)\n",
        "\n",
        "##rna ----\n",
        "rna_cn <- dt[ ,c(1,10:17)]\n",
        "#head(rna_cn)\n",
        "colnames(rna_cn)[-1] <- colnames(rna_cn)[-1] %>% substr(., 5, nchar(.))\n",
        "rna_cn_melt <- melt(rna_cn)\n",
        "rna_cn_melt$type <- rep(\"rna\", nrow(rna_cn_melt))\n",
        "#head(rna_cn_melt)\n",
        "\n",
        "# #copy number data in long form ----\n",
        "cn_dt <- rbind(dna_cn_melt, rna_cn_melt)\n",
        "# head(cn_dt)\n",
        "\n",
        "#save these file either using -\n",
        "# write.table(cn_dt, file = 'filepath/copy_number_longform.table', sep = \"\\t\")\n"
      ],
      "metadata": {
        "id": "NFywaMqAHpX9"
      },
      "id": "NFywaMqAHpX9",
      "execution_count": null,
      "outputs": []
    }
  ],
  "metadata": {
    "kernelspec": {
      "display_name": "R",
      "language": "R",
      "name": "ir"
    },
    "language_info": {
      "codemirror_mode": "r",
      "file_extension": ".r",
      "mimetype": "text/x-r-source",
      "name": "R",
      "pygments_lexer": "r",
      "version": "3.6.1"
    },
    "colab": {
      "provenance": [],
      "include_colab_link": true
    }
  },
  "nbformat": 4,
  "nbformat_minor": 5
}